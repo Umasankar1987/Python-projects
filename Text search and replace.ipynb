{
 "cells": [
  {
   "cell_type": "code",
   "execution_count": 1,
   "id": "4a030914",
   "metadata": {},
   "outputs": [
    {
     "name": "stdout",
     "output_type": "stream",
     "text": [
      "Requirement already satisfied: webvtt-py in c:\\anaconda\\lib\\site-packages (0.4.6)\n",
      "Requirement already satisfied: docopt in c:\\anaconda\\lib\\site-packages (from webvtt-py) (0.6.2)\n",
      "Note: you may need to restart the kernel to use updated packages.\n"
     ]
    }
   ],
   "source": [
    "pip install webvtt-py"
   ]
  },
  {
   "cell_type": "code",
   "execution_count": 2,
   "id": "8e1839a3",
   "metadata": {},
   "outputs": [],
   "source": [
    "import webvtt\n",
    "para = ' '\n",
    "for caption in webvtt.read('captions_text.vtt'):\n",
    "    para += caption.text"
   ]
  },
  {
   "cell_type": "code",
   "execution_count": 3,
   "id": "f99124d9",
   "metadata": {},
   "outputs": [
    {
     "data": {
      "text/plain": [
       "\" I'm now going to give you two more example problems of computing.eigendecomposition of matrices by hand.Obviously this is on the computer but I encourage you to do these problems by hand and they're not donein Matlab.So I guess that's what it means by hand.So let's get started.Here is a two by two matrix and you should pause the video go through find the eigenvalues and the eigenvectorsof this matrix so the way we start is by shifting the matrix by Lambda so subtracting lambda from thediagonal elements setting the determinant equal to zero and then proceeding to compute the determinantwhich is also called the characteristic equation of this matrix.So that works out to be three minus lambda times six minus lambda minus four equals zero and then expandingthese two terms multiplying out these two terms and then collecting the like terms gives us lambda squaredminus nine lambda plus fourteen equals zero and then this expression here can be factored into lambdaminus seven and Lambda minus two and now it's pretty easy to see that the two lambdas that will solvethis equation that solve this equation.In other words the two eigenvalues of this matrix are plus 7 and plus two.So that was step one we found the eigenvalues of this matrix and now we go through for each of theseeigenvalues shift the matrix by that amount by that value and then figure out what is a vector in theshifted matrices null space.OK so let's start with 2.So this gives us the matrix 1 1 4 4.And now we want to find the missing vector here and you've probably guessed it already it is 1 minus1.And of course you know that also acceptable would be minus 1 1 or minus quadrillion plus quadrillion.This vector simply identifies a subspace for the null space of this shifted matrix in any vector that'sin that null space is perfectly fine as an eigenvector.Now that said the best choice for an eigenvector would be a vector that has a norm of 1 a magnitudeof 1.And the second best choice would be integer values that are easy to interpret and compact to write likethis.All right.So this was for two.Now we go to the second eigenvalues which was seven and that gives us this matrix minus 4 1 and 4 minus1.And here a vector that could work as an eigenvector as a basis for the null space of this shifted matrixis the numbers 1 4.So here is the big picture overview we have this matrix and here you see the eigenvalue and its correspondingeigenvector and the other eigenvalue and the other corresponding eigenvector.Now your results will be correct.If you have the correct pairing of eigenvalue and any multiple any scaled version of this vector; itdoesn't matter if you call this lambda one and this V one that's fine because there's no intrinsic ordering.What matters is that you have the pairing correct.All right.So that was the two by two case.Now let's go for a three by three case.This one is a little bit more challenging and I have to admit.So I first came up with these numbers and then I started computing the eigendecomposition.Now I have to admit that I got stuck on one of the eigenvectors.I couldn't quite figure it out on my own.So I used Matlab to compute thateigenvector.So what I encourage you to do is find all three eigenvalues by hand and I think it will be pretty obviouswhen you start working through it which is the difficult eigenvalue.So then what you should do by hand is find two of the eigenvectors that you can get basically just bykind of eyeballing and making some educated guesses.And then the third eigenvector you can use a computer to solve or you can just wait and watch me comeup with a solution.All right.So again we start by shifting this matrix by minus lambda setting the determinant equal to zero andthen proceeding to compute the determinant of this equation and altogether that gives us the characteristicequation of this matrix.Now this is a little bit longer.It's a little bit trickier the arithmetic gets a little bit hairy in particular you end up with thisminus lambda cubed term as well as a couple of multiple terms with Lambda and Lambda squared.Now once you collect all of these like terms you'll end up with an expression that looks like this.So it should be minus lambda cubed plus 10 times lambda squared plus eleven lambda equals zero Now somethinginteresting has happened here all of these terms have a lambda attached to them which means that wecan take a lambda out of each of these terms and rewrite this expression as minus lambda times.All of this stuff and immediately that tells us that lambda equals zero is a solution.So when you set this lambda to be zero it doesn't actually matter what's inside this parenthetical statementthat's immediately going to set to make this equation true.That means that one of the eigenvalues of this matrix is zero and I'm going to have an entire videojust about this phenomenon a little bit later in this section.But essentially when an eigenvector is an eigenvalue is zero.It means that the matrix is singular and that you can actually see by looking at this matrix and yousee that column 1 plus column 2 equals column 3 so whenever you have a singular matrix at least oneeigenvalues value is going to be equal to zero.And in fact the number of eigenvalues that are equal to zero tells you about the rank of this matrix.More on that in the later video.Now once you've gotten to this step you can further factor this equation and you end up with the resultthat lambda equals zero lambda equals minus 1 and Lambda equals eleven.So you can probably guess that this is going to be the tricky I can value to compute the correspondingI can vector of and this is the one that I got a little bit stuck with.And so I used Matlab as a crutch.I cheated a little bit.OK so but let's go through all of these.So we start with zero and now this is kind of a funny thing because we are shifting the matrix by zerowhich actually means we're not changing the matrix at all.And that means that this matrix A already has a non-trivial null space even without doing any shifting.So this problem actually boils down to finding a vector in the null space or a basis for the null space.Even without doing any shifting so based on what I just told you about how do I set up this matrix thatcolumn one plus column two equals column three a basis for the null space is 1 one minus 1.So you can try for each of these rows the first column plus the second column minus the third columnequals zero all right.So now let's move on.So now we shift this matrix by eleven and this is basically where I got stuck and switch to matlab.So it turns out that eigenvector is nineteen forty one and thirty six.So if you figured out this I can vector on your own without using a computer then good for you you area better or at least more patient mathematician than I am.And then we get to the third eigenvalue which was minus one.So now that becomes plus one.And here is that shifted matrix and this one you should be able to solve on your own.In fact it's even easier than it looks.And if you need a hint before I show the answer then the hint is just consider that this third columnis actually pretty useless if you get rid of this third column it becomes really easy to find the eigenvector in this shifted matrices null space.So in fact it's one minus one and then zero you just set the third element to be zero.So that leads us to the big picture overview of the eigendecomposition of this three by three singularmatrix rank 2 matrix we have eigenvalues 0 minus 11 and minus 1.And these are the corresponding eigenvectors.And notice I've written them as row vectors and then transpose.So these are still column vectors we generally always think about eigenvectors as column vectors andyou will learn more about why that is the case in the video on diagonalization, which is coming up soon.\""
      ]
     },
     "execution_count": 3,
     "metadata": {},
     "output_type": "execute_result"
    }
   ],
   "source": [
    "para"
   ]
  },
  {
   "cell_type": "code",
   "execution_count": 4,
   "id": "453ab60e",
   "metadata": {},
   "outputs": [
    {
     "data": {
      "text/plain": [
       "7831"
      ]
     },
     "execution_count": 4,
     "metadata": {},
     "output_type": "execute_result"
    }
   ],
   "source": [
    "len(para)"
   ]
  },
  {
   "cell_type": "code",
   "execution_count": 5,
   "id": "68874182",
   "metadata": {},
   "outputs": [
    {
     "name": "stdout",
     "output_type": "stream",
     "text": [
      "1387\n"
     ]
    }
   ],
   "source": [
    "letters = para.split()\n",
    "print(len(letters))"
   ]
  },
  {
   "cell_type": "code",
   "execution_count": 6,
   "id": "91ee689c",
   "metadata": {},
   "outputs": [],
   "source": [
    "for i in range(len(letters)):\n",
    "    if len(letters[i]) == 4 and not letters[i][-1] == '.':\n",
    "        letters[i] = letters[i][0] + '***'\n",
    "       \n",
    "        "
   ]
  },
  {
   "cell_type": "code",
   "execution_count": 7,
   "id": "98510edb",
   "metadata": {},
   "outputs": [
    {
     "data": {
      "text/plain": [
       "\"I'm now going to g*** you two m*** example problems of computing.eigendecomposition of matrices by hand.Obviously t*** is on the computer but I encourage you to do these problems by h*** and they're not donein Matlab.So I guess that's w*** it means by hand.So let's get started.Here is a two by two matrix and you should pause the video go through f*** the eigenvalues and the eigenvectorsof t*** matrix so the way we start is by shifting the matrix by Lambda so subtracting lambda f*** thediagonal elements setting the determinant equal to z*** and t*** proceeding to compute the determinantwhich is a*** called the characteristic equation of t*** matrix.So t*** works out to be three minus lambda times six minus lambda minus f*** equals z*** and t*** expandingthese two terms multiplying out these two terms and t*** collecting the l*** terms gives us lambda squaredminus n*** lambda p*** fourteen equals z*** and t*** t*** expression h*** can be factored i*** lambdaminus seven and Lambda minus two and now i*** pretty e*** to see t*** the two lambdas t*** w*** solvethis equation t*** solve t*** equation.In other words the two eigenvalues of t*** matrix are p*** 7 and p*** two.So t*** was s*** one we found the eigenvalues of t*** matrix and now we go through for e*** of theseeigenvalues shift the matrix by t*** amount by t*** value and t*** figure out w*** is a vector in theshifted matrices n*** space.OK so let's start w*** 2*** t*** gives us the matrix 1 1 4 4.And now we w*** to f*** the missing vector h*** and you've probably guessed it already it is 1 minus1.And of course you k*** t*** a*** acceptable would be minus 1 1 or minus quadrillion p*** quadrillion.This vector simply identifies a subspace for the n*** space of t*** shifted matrix in any vector that'sin t*** n*** space is perfectly f*** as an eigenvector.Now t*** s*** the b*** choice for an eigenvector would be a vector t*** has a n*** of 1 a magnitudeof 1.And the second b*** choice would be integer values t*** are e*** to interpret and compact to write likethis.All right.So t*** was for two.Now we go to the second eigenvalues which was seven and t*** gives us t*** matrix minus 4 1 and 4 minus1.And h*** a vector t*** could w*** as an eigenvector as a basis for the n*** space of t*** shifted matrixis the numbers 1 4*** h*** is the big picture overview we h*** t*** matrix and h*** you see the eigenvalue and its correspondingeigenvector and the other eigenvalue and the other corresponding eigenvector.Now y*** results w*** be correct.If you h*** the correct pairing of eigenvalue and any multiple any scaled version of t*** vector; itdoesn't matter if you c*** t*** lambda one and t*** V one that's f*** because there's no intrinsic ordering.What matters is t*** you h*** the pairing correct.All right.So t*** was the two by two case.Now let's go for a three by three case.This one is a little bit m*** challenging and I h*** to admit.So I first c*** up w*** these numbers and t*** I started computing the eigendecomposition.Now I h*** to admit t*** I got stuck on one of the eigenvectors.I couldn't quite figure it out on my own.So I u*** Matlab to compute thateigenvector.So w*** I encourage you to do is f*** all three eigenvalues by h*** and I think it w*** be pretty obviouswhen you start working through it which is the difficult eigenvalue.So t*** w*** you should do by h*** is f*** two of the eigenvectors t*** you can get basically j*** bykind of eyeballing and making s*** educated guesses.And t*** the third eigenvector you can use a computer to solve or you can j*** w*** and watch me comeup w*** a solution.All right.So again we start by shifting t*** matrix by minus lambda setting the determinant equal to z*** andthen proceeding to compute the determinant of t*** equation and altogether t*** gives us the characteristicequation of t*** matrix.Now t*** is a little bit longer.It's a little bit trickier the arithmetic g*** a little bit hairy in particular you end up w*** thisminus lambda cubed t*** as w*** as a couple of multiple terms w*** Lambda and Lambda squared.Now o*** you collect all of these l*** terms you'll end up w*** an expression t*** looks l*** this.So it should be minus lambda cubed p*** 10 times lambda squared p*** eleven lambda equals z*** Now somethinginteresting has happened h*** all of these terms h*** a lambda attached to t*** which means t*** wecan t*** a lambda out of e*** of these terms and rewrite t*** expression as minus lambda times.All of t*** stuff and immediately t*** tells us t*** lambda equals z*** is a solution.So w*** you set t*** lambda to be z*** it doesn't actually matter what's inside t*** parenthetical statementthat's immediately going to set to m*** t*** equation true.That means t*** one of the eigenvalues of t*** matrix is z*** and I'm going to h*** an entire videojust about t*** phenomenon a little bit later in t*** section.But essentially w*** an eigenvector is an eigenvalue is zero.It means t*** the matrix is singular and t*** you can actually see by looking at t*** matrix and yousee t*** column 1 p*** column 2 equals column 3 so whenever you h*** a singular matrix at least oneeigenvalues value is going to be equal to zero.And in f*** the number of eigenvalues t*** are equal to z*** tells you about the r*** of t*** matrix.More on t*** in the later video.Now o*** you've gotten to t*** s*** you can further factor t*** equation and you end up w*** the resultthat lambda equals z*** lambda equals minus 1 and Lambda equals eleven.So you can probably guess t*** t*** is going to be the tricky I can value to compute the correspondingI can vector of and t*** is the one t*** I got a little bit stuck with.And so I u*** Matlab as a crutch.I cheated a little bit.OK so but let's go through all of these.So we start w*** z*** and now t*** is k*** of a funny thing because we are shifting the matrix by zerowhich actually means we're not changing the matrix at all.And t*** means t*** t*** matrix A already has a non-trivial n*** space e*** without doing any shifting.So t*** problem actually boils d*** to finding a vector in the n*** space or a basis for the n*** space.Even without doing any shifting so based on w*** I j*** t*** you about how do I set up t*** matrix thatcolumn one p*** column two equals column three a basis for the n*** space is 1 one minus 1*** you can try for e*** of these r*** the first column p*** the second column minus the third columnequals z*** all right.So now let's m*** on.So now we shift t*** matrix by eleven and t*** is basically where I got stuck and switch to matlab.So it turns out t*** eigenvector is nineteen forty one and thirty six.So if you figured out t*** I can vector on y*** own without using a computer t*** g*** for you you a*** better or at least m*** patient mathematician t*** I am.And t*** we get to the third eigenvalue which was minus one.So now t*** becomes p*** one.And h*** is t*** shifted matrix and t*** one you should be a*** to solve on y*** own.In f*** i*** e*** easier t*** it looks.And if you n*** a h*** before I s*** the answer t*** the h*** is j*** consider t*** t*** third columnis actually pretty useless if you get rid of t*** third column it becomes really e*** to f*** the eigenvector in t*** shifted matrices n*** space.So in f*** i*** one minus one and t*** z*** you j*** set the third element to be zero.So t*** leads us to the big picture overview of the eigendecomposition of t*** three by three singularmatrix r*** 2 matrix we h*** eigenvalues 0 minus 11 and minus 1.And these are the corresponding eigenvectors.And notice I*** written t*** as row vectors and t*** transpose.So these are still column vectors we generally always think about eigenvectors as column vectors andyou w*** learn m*** about why t*** is the c*** in the video on diagonalization, which is coming up soon.\""
      ]
     },
     "execution_count": 7,
     "metadata": {},
     "output_type": "execute_result"
    }
   ],
   "source": [
    "output = ' '.join(letters)\n",
    "output"
   ]
  },
  {
   "cell_type": "code",
   "execution_count": 8,
   "id": "bd757e87",
   "metadata": {},
   "outputs": [],
   "source": [
    "with open('textoutput.txt','w') as a:\n",
    "    a.write(output)"
   ]
  },
  {
   "cell_type": "code",
   "execution_count": null,
   "id": "1983bd8c",
   "metadata": {},
   "outputs": [],
   "source": []
  }
 ],
 "metadata": {
  "kernelspec": {
   "display_name": "Python 3",
   "language": "python",
   "name": "python3"
  },
  "language_info": {
   "codemirror_mode": {
    "name": "ipython",
    "version": 3
   },
   "file_extension": ".py",
   "mimetype": "text/x-python",
   "name": "python",
   "nbconvert_exporter": "python",
   "pygments_lexer": "ipython3",
   "version": "3.8.8"
  }
 },
 "nbformat": 4,
 "nbformat_minor": 5
}
